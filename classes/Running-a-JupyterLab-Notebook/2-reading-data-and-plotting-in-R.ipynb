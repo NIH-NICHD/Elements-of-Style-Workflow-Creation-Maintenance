{
 "cells": [
  {
   "cell_type": "markdown",
   "id": "6431e726",
   "metadata": {},
   "source": [
    "# Using R to read data and plot \n",
    "\n",
    "\n",
    " __email__: anne.deslattesmays@nih.gov\n",
    " \n",
    "(Questions? Feel free to create a new issue in the workshop's github repo [here](https://github.com/NIH-NICHD/Elements-of-Style-Workflow-Creation-Maintenance/issues))\n",
    "from the command line please do the following\n",
    "```bash\n",
    "cd classes/1-intro-to-command-line\n",
    "wget https://zenodo.org/record/4302133/files/deseq2_5k.csv\n",
    "```"
   ]
  },
  {
   "cell_type": "markdown",
   "id": "9623f751",
   "metadata": {},
   "source": [
    "## Loading libraries"
   ]
  },
  {
   "cell_type": "code",
   "execution_count": 1,
   "id": "95a569fb",
   "metadata": {},
   "outputs": [
    {
     "name": "stderr",
     "output_type": "stream",
     "text": [
      "Downloading GitHub repo kevinblighe/EnhancedVolcano@HEAD\n",
      "\n"
     ]
    },
    {
     "name": "stdout",
     "output_type": "stream",
     "text": [
      "crayon     (1.4.1  -> 1.5.1  ) [CRAN]\n",
      "cli        (3.0.1  -> 3.2.0  ) [CRAN]\n",
      "colorspace (2.0-2  -> 2.0-3  ) [CRAN]\n",
      "vctrs      (0.3.8  -> 0.4.0  ) [CRAN]\n",
      "pillar     (1.6.2  -> 1.7.0  ) [CRAN]\n",
      "magrittr   (2.0.1  -> 2.0.3  ) [CRAN]\n",
      "fansi      (0.5.0  -> 1.0.3  ) [CRAN]\n",
      "lifecycle  (1.0.0  -> 1.0.1  ) [CRAN]\n",
      "withr      (2.4.2  -> 2.5.0  ) [CRAN]\n",
      "tibble     (3.1.4  -> 3.1.6  ) [CRAN]\n",
      "rlang      (0.4.11 -> 1.0.2  ) [CRAN]\n",
      "glue       (1.4.2  -> 1.6.2  ) [CRAN]\n",
      "digest     (0.6.27 -> 0.6.29 ) [CRAN]\n",
      "Rcpp       (1.0.7  -> 1.0.8.3) [CRAN]\n",
      "ggrepel    (NA     -> 0.9.1  ) [CRAN]\n"
     ]
    },
    {
     "name": "stderr",
     "output_type": "stream",
     "text": [
      "Installing 15 packages: crayon, cli, colorspace, vctrs, pillar, magrittr, fansi, lifecycle, withr, tibble, rlang, glue, digest, Rcpp, ggrepel\n",
      "\n",
      "Updating HTML index of packages in '.Library'\n",
      "\n",
      "Making 'packages.html' ...\n",
      " done\n",
      "\n"
     ]
    },
    {
     "name": "stdout",
     "output_type": "stream",
     "text": [
      "\u001b[32m✔\u001b[39m  \u001b[90mchecking for file ‘/tmp/RtmpH0uCcO/remotes9555a645c8f/kevinblighe-EnhancedVolcano-7abca28/DESCRIPTION’\u001b[39m\u001b[36m\u001b[39m\n",
      "\u001b[90m─\u001b[39m\u001b[90m  \u001b[39m\u001b[90mpreparing ‘EnhancedVolcano’:\u001b[39m\u001b[36m\u001b[39m\n",
      "\u001b[32m✔\u001b[39m  \u001b[90mchecking DESCRIPTION meta-information\u001b[39m\u001b[36m\u001b[39m\n",
      "\u001b[90m─\u001b[39m\u001b[90m  \u001b[39m\u001b[90mchecking for LF line-endings in source and make files and shell scripts\u001b[39m\u001b[36m\u001b[39m\n",
      "\u001b[90m─\u001b[39m\u001b[90m  \u001b[39m\u001b[90mchecking for empty or unneeded directories\u001b[39m\u001b[36m\u001b[39m\n",
      "\u001b[90m─\u001b[39m\u001b[90m  \u001b[39m\u001b[90mbuilding ‘EnhancedVolcano_1.13.2.tar.gz’\u001b[39m\u001b[36m\u001b[39m\n",
      "   \n",
      "\r"
     ]
    },
    {
     "name": "stderr",
     "output_type": "stream",
     "text": [
      "Updating HTML index of packages in '.Library'\n",
      "\n",
      "Making 'packages.html' ...\n",
      " done\n",
      "\n"
     ]
    }
   ],
   "source": [
    "devtools::install_github('kevinblighe/EnhancedVolcano')\n",
    "install.packages(\"data.table\")"
   ]
  },
  {
   "cell_type": "code",
   "execution_count": 2,
   "id": "c51929c4",
   "metadata": {},
   "outputs": [
    {
     "name": "stderr",
     "output_type": "stream",
     "text": [
      "Loading required package: ggplot2\n",
      "\n",
      "Loading required package: ggrepel\n",
      "\n"
     ]
    }
   ],
   "source": [
    "library(data.table)\n",
    "library(EnhancedVolcano)"
   ]
  },
  {
   "cell_type": "raw",
   "id": "9812b107",
   "metadata": {},
   "source": [
    "Getting RNAseq data to test our plot from ZENODO"
   ]
  },
  {
   "cell_type": "markdown",
   "id": "297b86b5",
   "metadata": {},
   "source": [
    "We will utilise the  data from from [Bioconductor's Rnaseq Workflow](http://master.bioconductor.org/packages/release/workflows/vignettes/rnaseqGene/inst/doc/rnaseqGene.html). We will see this dataset again a little later from another R package  for plotting. For retrieving the results of the differential expression analysis, we will follow the tutorial (from Section 3.1) of the RNA-seq workflow. Specifically, we will load the [airway](https://bioconductor.org/packages/release/data/experiment/html/airway.html) data, where different airway smooth muscle cells were treated with dexamethasone. We will use this dataset to explore different visualisations for presenting differential abundance. While the data we will use are from an RNAseq experiment, we can utilise the same visualisations for other omics data such as proteomics or metabolomics after the relevant preprocessing.\n",
    "\n",
    "\n",
    "For this course we have uploaded the data in **ZENODO**, to make it easier to use them in the tutorial.\n",
    "The pre-processed data can be found at: https://doi.org/10.5281/zenodo.4317512\n",
    "\n",
    "To retrieve the data in your terminal, run the following commands within a **terminal** window\n",
    "\n",
    "```bash\n",
    "cd Elements-of-Style-Workflow-Creation-Maintenance/classes/Running-a-JupyterLab-Notebook/\n",
    "```\n",
    "\n",
    "```bash\n",
    "wget https://zenodo.org/record/4317512/files/deseq2_5k.csv\n",
    "```"
   ]
  },
  {
   "cell_type": "code",
   "execution_count": null,
   "id": "3e6af311",
   "metadata": {},
   "outputs": [],
   "source": [
    "results <- data.table::fread(file = \"deseq2_5k.csv\")"
   ]
  },
  {
   "cell_type": "markdown",
   "id": "cb2a8e45",
   "metadata": {},
   "source": [
    "# Let's inspect the results \n",
    "We quickly notice the log2FoldChange and adjusted pValue. In a differential expression experiment, these two metrics give us a quick overview of the most interesting measured transcripts of genes."
   ]
  },
  {
   "cell_type": "code",
   "execution_count": null,
   "id": "faaab30a",
   "metadata": {},
   "outputs": [],
   "source": [
    "head(results)"
   ]
  },
  {
   "cell_type": "markdown",
   "id": "dcb74179",
   "metadata": {},
   "source": [
    "# Easy volcano plots with `{EnhancedVolcano}` R package 📦\n",
    "\n",
    "The `{EnhancedVolcano}` R package 📦 has been developed by [Kevin Blighe](https://www.biostars.org/u/41557/) - the name might seem familiar as you might have come across it several times if you find yourselves in [Biostars](https://www.biostars.org/u/41557/) frequently. Kevin Blighe, is not merely a very active Biostars users but also the admin! The `{EnhancedVolcano}` R package, is one very useful R package, as it provides great flexibility and ease for creating publication ready Volcano plots. We will be following the package `vignette`, which can be found [here](https://github.com/kevinblighe/EnhancedVolcano), in the respective GitHub repository.Let's see the package in action!"
   ]
  },
  {
   "cell_type": "code",
   "execution_count": null,
   "id": "ad5c8065",
   "metadata": {},
   "outputs": [],
   "source": [
    "# A minimal function call, for a complete plot\n",
    "\n",
    "gg<- EnhancedVolcano(toptable = results, \n",
    "                    lab = results$feature,\n",
    "                    x = 'log2FoldChange',\n",
    "                    y = 'pvalue',\n",
    "                    xlim = c(-5, 8))\n",
    "\n",
    "gg"
   ]
  },
  {
   "cell_type": "markdown",
   "id": "f93d5677",
   "metadata": {},
   "source": [
    "# Let's customise the 🌋 plot a bit more"
   ]
  },
  {
   "cell_type": "markdown",
   "id": "1b2cdd98",
   "metadata": {},
   "source": [
    "- Modify cut-offs for log2FC and P value\n",
    "- specify title \n",
    "- adjust point and label size\n"
   ]
  },
  {
   "cell_type": "code",
   "execution_count": null,
   "id": "34668cd1",
   "metadata": {},
   "outputs": [],
   "source": [
    "gg<-   EnhancedVolcano::EnhancedVolcano( results,    \n",
    "                        col=c('grey', 'grey', 'orange', 'purple'),\n",
    "\n",
    "                        lab = results$feature,\n",
    "                        x = 'log2FoldChange',\n",
    "                        y = 'pvalue',\n",
    "                        xlim = c(-5, 5),\n",
    "                        ylim = c(15,130),\n",
    "\n",
    "                        title = 'Differential abundance (untreated with respect to treated cells)',  \n",
    "                        titleLabSize = 12,\n",
    "                       \n",
    "                        subtitle = '{EnhancedVolcano} for Elements-of-Style Tutorial',\n",
    "                        subtitleLabSize = 10,\n",
    "                       \n",
    "                        caption = \"Treated vs Untreated with dexamethasone\",\n",
    "                        captionLabSize = 10,\n",
    "                       \n",
    "                        pCutoff = 10e-16,\n",
    "                        FCcutoff = 1.2,\n",
    "                        pointSize = 1.0,\n",
    "                        labSize = 3.0)\n",
    "\n",
    "gg"
   ]
  },
  {
   "cell_type": "markdown",
   "id": "e21db30c",
   "metadata": {},
   "source": [
    "# Appendix"
   ]
  },
  {
   "cell_type": "markdown",
   "id": "202f0448",
   "metadata": {},
   "source": [
    "## Generating the data we used for the plot"
   ]
  },
  {
   "cell_type": "markdown",
   "id": "7e379a12",
   "metadata": {},
   "source": [
    "To save some waiting time we loaded the precomputed results from the comparison described above, our set contrast for treated and untreated with dexamethasone muscle cells. You can reproduce this table by running the following code:\n",
    "\n",
    "\n",
    "```r\n",
    "# this code snippet is written in markdown, enclosed in ``` and will not be executed\n",
    "# to run paste in a code cell\n",
    "\n",
    "library(magrittr)\n",
    "library('DESeq2')\n",
    "library(airway)\n",
    "\n",
    "data('airway')\n",
    "\n",
    "levels(airway$dex)\n",
    "airway$dex %<>% relevel('untrt')\n",
    "levels(airway$dex)\n",
    "\n",
    "dds <- DESeqDataSet(airway, design = ~ cell + dex)\n",
    "dds <- DESeq(dds, betaPrior=FALSE)\n",
    "\n",
    "res1 <- results(dds,contrast = c('dex','trt','untrt'))\n",
    "subsampled_results <- res1[1:5000,]\n",
    "subsampled_results$feature <- subsampled_results@rownames\n",
    "                          \n",
    "# Subsample and save an object to an Rds and a csv file\n",
    "saveRDS(subsample_results, file = \"deseq2_5k.rds\")\n",
    "loaded_results_RDS <- readRDS(file = \"deseq2_5k.rds\")\n",
    "data.table::fwrite(as.data.frame(subsampled_results),\n",
    "                   col.names = TRUE, \n",
    "                   row.names = FALSE,\n",
    "                   file = \"../data/2-plotting-in-R/deseq2_5k.csv\", \n",
    "                   sep  =',')\n",
    "\n",
    "\n",
    "```\n"
   ]
  }
 ],
 "metadata": {
  "jupytext": {
   "encoding": "# -*- coding: utf-8 -*-"
  },
  "kernelspec": {
   "display_name": "R",
   "language": "R",
   "name": "ir"
  },
  "language_info": {
   "codemirror_mode": "r",
   "file_extension": ".r",
   "mimetype": "text/x-r-source",
   "name": "R",
   "pygments_lexer": "r",
   "version": "4.1.1"
  }
 },
 "nbformat": 4,
 "nbformat_minor": 5
}
